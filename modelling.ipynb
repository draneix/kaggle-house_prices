{
 "cells": [
  {
   "cell_type": "code",
   "execution_count": 1,
   "metadata": {},
   "outputs": [
    {
     "ename": "ModuleNotFoundError",
     "evalue": "No module named 'sklearn'",
     "output_type": "error",
     "traceback": [
      "\u001b[1;31m---------------------------------------------------------------------------\u001b[0m",
      "\u001b[1;31mModuleNotFoundError\u001b[0m                       Traceback (most recent call last)",
      "Cell \u001b[1;32mIn[1], line 6\u001b[0m\n\u001b[0;32m      4\u001b[0m \u001b[38;5;28;01mimport\u001b[39;00m \u001b[38;5;21;01mmatplotlib\u001b[39;00m\u001b[38;5;21;01m.\u001b[39;00m\u001b[38;5;21;01mpyplot\u001b[39;00m \u001b[38;5;28;01mas\u001b[39;00m \u001b[38;5;21;01mplt\u001b[39;00m\n\u001b[0;32m      5\u001b[0m \u001b[38;5;28;01mimport\u001b[39;00m \u001b[38;5;21;01mseaborn\u001b[39;00m \u001b[38;5;28;01mas\u001b[39;00m \u001b[38;5;21;01msns\u001b[39;00m\n\u001b[1;32m----> 6\u001b[0m \u001b[38;5;28;01mfrom\u001b[39;00m \u001b[38;5;21;01msklearn\u001b[39;00m\u001b[38;5;21;01m.\u001b[39;00m\u001b[38;5;21;01mexperimental\u001b[39;00m \u001b[38;5;28;01mimport\u001b[39;00m enable_iterative_imputer\n\u001b[0;32m      7\u001b[0m \u001b[38;5;28;01mfrom\u001b[39;00m \u001b[38;5;21;01msklearn\u001b[39;00m\u001b[38;5;21;01m.\u001b[39;00m\u001b[38;5;21;01mimpute\u001b[39;00m \u001b[38;5;28;01mimport\u001b[39;00m IterativeImputer\n",
      "\u001b[1;31mModuleNotFoundError\u001b[0m: No module named 'sklearn'"
     ]
    }
   ],
   "source": [
    "import numpy as np\n",
    "import pandas as pd\n",
    "import seaborn as sns\n",
    "import matplotlib.pyplot as plt\n",
    "import seaborn as sns\n",
    "from sklearn.experimental import enable_iterative_imputer\n",
    "from sklearn.impute import IterativeImputer"
   ]
  },
  {
   "cell_type": "code",
   "execution_count": null,
   "metadata": {},
   "outputs": [],
   "source": [
    "# Reading data\n",
    "# Train\n",
    "df_train = pd.read_csv(\"./data/train.csv\")\n",
    "# Test\n",
    "# Note that test set has no SalePrice, which is what you are going to predict\n",
    "# Therefore, you need to get your own \"test\" set from the train data to evaluate your model\n",
    "# The test set is evaluated onto kaggle\n",
    "df_test = pd.read_csv(\"./data/test.csv\")"
   ]
  },
  {
   "cell_type": "code",
   "execution_count": null,
   "metadata": {},
   "outputs": [],
   "source": [
    "print(df_train.info())\n",
    "print(set(df_train.dtypes.values))"
   ]
  },
  {
   "cell_type": "code",
   "execution_count": null,
   "metadata": {},
   "outputs": [],
   "source": [
    "# Print columns with missing values\n",
    "print(\"Columns with nulls:\\n\",df_train.isna().sum().loc[df_train.isna().sum() > 0])"
   ]
  },
  {
   "cell_type": "code",
   "execution_count": null,
   "metadata": {},
   "outputs": [],
   "source": [
    "# Check if fireplace quality matches fireplaces\n",
    "df_train.loc[df_train[\"FireplaceQu\"].isna()][\"Fireplaces\"].describe()"
   ]
  },
  {
   "cell_type": "code",
   "execution_count": null,
   "metadata": {},
   "outputs": [],
   "source": [
    "# Check BsmtFinSF1 and BsmtFinSF2 values when there are no basements\n",
    "print(df_train.loc[df_train[\"BsmtFinType1\"].isna()][\"BsmtFinSF1\"].describe())\n",
    "\n",
    "# Note that FinType2 has some issues\n",
    "print(df_train.loc[df_train[\"BsmtFinType2\"].isna()][\"BsmtFinSF2\"].describe())\n",
    "print(df_train.groupby(\"BsmtFinType1\")[\"BsmtFinSF1\"].describe())\n",
    "print(df_train.groupby(\"BsmtFinType2\")[\"BsmtFinSF2\"].describe())\n",
    "\n",
    "# check BsmtExposure\n",
    "print(df_train.loc[df_train[\"BsmtFinType1\"] == \"Unf\"][[\"BsmtQual\", \"BsmtCond\", \"BsmtExposure\", \"BsmtFinType1\", \"BsmtFinSF1\", \"BsmtFinType2\", \"BsmtFinSF2\", \"BsmtUnfSF\", \"TotalBsmtSF\"]][\"BsmtExposure\"].value_counts())\n",
    "\n",
    "# check MasVnrType\n",
    "print(df_train.loc[df_train[\"MasVnrType\"].isna() | df_train[\"MasVnrArea\"].isna()])\n",
    "print(df_train.groupby(\"MasVnrType\")[\"MasVnrArea\"].describe())\n",
    "df_train.groupby([\"MasVnrType\", \"Exterior1st\", \"Exterior2nd\", \"ExterQual\", \"ExterCond\"])[\"MasVnrArea\"].describe()\n",
    "\n",
    "# Check electrical\n",
    "print(df_train[\"Electrical\"].value_counts())"
   ]
  },
  {
   "cell_type": "code",
   "execution_count": null,
   "metadata": {},
   "outputs": [],
   "source": [
    "df_train[\"LotFrontage\"].describe()"
   ]
  },
  {
   "cell_type": "code",
   "execution_count": null,
   "metadata": {},
   "outputs": [],
   "source": [
    "#Fill in missing values\n",
    "df_train.loc[df_train[\"Id\"] == 949, \"BsmtExposure\"] = \"No\"\n",
    "df_train.loc[(df_train[\"MasVnrType\"].isna())\n",
    "            & (df_train[\"MasVnrArea\"].isna()), \"MasVnrArea\"] = 0\n",
    "df_train.loc[(df_train[\"BsmtFinType2\"].isna())\n",
    "            & (df_train[\"BsmtFinSF2\"] > 0), \"BsmtFinType2\"] = \"Rec\"\n",
    "df_train.loc[df_train[\"MasVnrArea\"] == 1, \"MasVnrArea\"] = 0\n",
    "df_train.loc[df_train[\"MasVnrArea\"] == 288, \"MasVnrType\"] = \"BrkCmn\"\n",
    "df_train.loc[df_train[\"MasVnrArea\"] == 344, \"MasVnrType\"] = \"BrkFace\"\n",
    "df_train.loc[df_train[\"MasVnrArea\"] == 288, \"MasVnrType\"] = \"BrkFace\"\n",
    "df_train.loc[df_train[\"Electrical\"].isna(), \"Electrical\"] = df_train[\"Electrical\"].value_counts().nlargest(1).index[0]"
   ]
  },
  {
   "cell_type": "code",
   "execution_count": null,
   "metadata": {},
   "outputs": [],
   "source": [
    "# Histogram plot of sale prices\n",
    "# Note that there are some outliers\n",
    "df_train[\"SalePrice\"].plot.hist()\n",
    "print(df_train[\"SalePrice\"].describe())"
   ]
  },
  {
   "cell_type": "code",
   "execution_count": null,
   "metadata": {},
   "outputs": [],
   "source": [
    "# Check \n",
    "check_cols = list(df_train.isna().sum()[df_train.isna().sum() != 0].index)\n",
    "df_train[check_cols].info()"
   ]
  },
  {
   "cell_type": "code",
   "execution_count": null,
   "metadata": {},
   "outputs": [],
   "source": [
    "# Correlation matrix\n",
    "df_train_numeric = df_train.select_dtypes(exclude=\"object\")\n",
    "df_train_numeric.corr()\n",
    "plt.figure(figsize=(16, 9))\n",
    "sns.heatmap(df_train_numeric.corr().abs())"
   ]
  },
  {
   "cell_type": "code",
   "execution_count": null,
   "metadata": {},
   "outputs": [],
   "source": [
    "# Lot Frontage\n",
    "sns.histplot(df_train[\"LotFrontage\"], stat=\"percent\", binwidth=10)"
   ]
  },
  {
   "cell_type": "code",
   "execution_count": null,
   "metadata": {},
   "outputs": [],
   "source": []
  }
 ],
 "metadata": {
  "kernelspec": {
   "display_name": ".venv",
   "language": "python",
   "name": "python3"
  },
  "language_info": {
   "codemirror_mode": {
    "name": "ipython",
    "version": 3
   },
   "file_extension": ".py",
   "mimetype": "text/x-python",
   "name": "python",
   "nbconvert_exporter": "python",
   "pygments_lexer": "ipython3",
   "version": "3.11.4"
  }
 },
 "nbformat": 4,
 "nbformat_minor": 2
}
